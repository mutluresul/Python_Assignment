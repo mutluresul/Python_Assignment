{
  "nbformat": 4,
  "nbformat_minor": 0,
  "metadata": {
    "colab": {
      "name": "Python_Assignment 008/21(Password Reminder).ipynb",
      "provenance": [],
      "authorship_tag": "ABX9TyNExw+v/Bijpe2hxHRfbEHh",
      "include_colab_link": true
    },
    "kernelspec": {
      "name": "python3",
      "display_name": "Python 3"
    },
    "language_info": {
      "name": "python"
    }
  },
  "cells": [
    {
      "cell_type": "markdown",
      "metadata": {
        "id": "view-in-github",
        "colab_type": "text"
      },
      "source": [
        "<a href=\"https://colab.research.google.com/github/mutluresul/Python_Assignment/blob/main/Python_Assignment_008_21(Password_Reminder).ipynb\" target=\"_parent\"><img src=\"https://colab.research.google.com/assets/colab-badge.svg\" alt=\"Open In Colab\"/></a>"
      ]
    },
    {
      "cell_type": "code",
      "metadata": {
        "colab": {
          "base_uri": "https://localhost:8080/"
        },
        "id": "quR6meh_No1r",
        "outputId": "de502d12-ce9f-49de-f5c1-f4462a1b6b8f"
      },
      "source": [
        "password_name = \"Resul\"\n",
        "password_number = \"R*e-s#u_L\"\n",
        "\n",
        "name = input(\"Enter the your name, please :\").title()\n",
        "if name == password_name:\n",
        "    print(f\"Hello, {name}! The password is : {password_number}\")\n",
        "else:\n",
        "    print(f\"Hello, {name}! See you later.\")"
      ],
      "execution_count": 1,
      "outputs": [
        {
          "output_type": "stream",
          "text": [
            "Enter the your name, please :reSuL\n",
            "Hello, Resul! The password is : R*e-s#u_L\n"
          ],
          "name": "stdout"
        }
      ]
    }
  ]
}