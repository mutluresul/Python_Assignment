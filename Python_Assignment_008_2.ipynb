{
  "nbformat": 4,
  "nbformat_minor": 0,
  "metadata": {
    "colab": {
      "name": "Assignment 008/02.ipynb",
      "provenance": [],
      "authorship_tag": "ABX9TyNxcOjBg5E7GXhxEFlbyM1X",
      "include_colab_link": true
    },
    "kernelspec": {
      "name": "python3",
      "display_name": "Python 3"
    },
    "language_info": {
      "name": "python"
    }
  },
  "cells": [
    {
      "cell_type": "markdown",
      "metadata": {
        "id": "view-in-github",
        "colab_type": "text"
      },
      "source": [
        "<a href=\"https://colab.research.google.com/github/mutluresul/Python_Assignment/blob/main/Assignment_008_02.ipynb\" target=\"_parent\"><img src=\"https://colab.research.google.com/assets/colab-badge.svg\" alt=\"Open In Colab\"/></a>"
      ]
    },
    {
      "cell_type": "code",
      "metadata": {
        "colab": {
          "base_uri": "https://localhost:8080/"
        },
        "id": "sYEtMQBRD-T1",
        "outputId": "3aea6fe6-aacb-4fdd-d974-e5fccb8d11e3"
      },
      "source": [
        "age = input(\"Are you a cigarette addict older than 75 years old?\").strip().title()\n",
        "chronic = input(\"Do you have a severe chronic disease? \").strip().title()\n",
        "immune = input(\"Is your immune system too weak? \").strip().title()\n",
        "if age == \"Yes\":\n",
        "    age = True\n",
        "else:\n",
        "    age = False\n",
        "\n",
        "if chronic== \"Yes\":\n",
        "    chronic = True\n",
        "else:\n",
        "    chronic = False\n",
        "\n",
        "if immune == \"Yes\":\n",
        "    immune = True\n",
        "else:\n",
        "    immune = False\n",
        "\n",
        "if age or chronic or immune == True :\n",
        "    print(\"You are in risky group.\")\n",
        "else :\n",
        "    print(\"You are not in risky group\")"
      ],
      "execution_count": 2,
      "outputs": [
        {
          "output_type": "stream",
          "text": [
            "Are you a cigarette addict older than 75 years old?yes\n",
            "Do you have a severe chronic disease? no\n",
            "Is your immune system too weak? no\n",
            "You are in risky group.\n"
          ],
          "name": "stdout"
        }
      ]
    }
  ]
}
