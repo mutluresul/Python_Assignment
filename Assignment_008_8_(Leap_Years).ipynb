{
  "nbformat": 4,
  "nbformat_minor": 0,
  "metadata": {
    "colab": {
      "name": "Assignment-008/8 (Leap Years).ipynb",
      "provenance": [],
      "authorship_tag": "ABX9TyOi5JetVrFM2kAdfAahR20P",
      "include_colab_link": true
    },
    "kernelspec": {
      "name": "python3",
      "display_name": "Python 3"
    },
    "language_info": {
      "name": "python"
    }
  },
  "cells": [
    {
      "cell_type": "markdown",
      "metadata": {
        "id": "view-in-github",
        "colab_type": "text"
      },
      "source": [
        "<a href=\"https://colab.research.google.com/github/mutluresul/Python_Assignments/blob/main/Assignment_008_8_(Leap_Years).ipynb\" target=\"_parent\"><img src=\"https://colab.research.google.com/assets/colab-badge.svg\" alt=\"Open In Colab\"/></a>"
      ]
    },
    {
      "cell_type": "code",
      "metadata": {
        "colab": {
          "base_uri": "https://localhost:8080/"
        },
        "id": "VdBefzib_zy9",
        "outputId": "96000184-fdc8-487c-859f-94dfe90c95cd"
      },
      "source": [
        "year = int(input(\"Please enter a year: \"))\n",
        "if not year % 4  == 0:\n",
        "    print(\"%d  is not LEAP YEAR \" %year)\n",
        "while year % 4 == 0:\n",
        "    if not year % 100 == 0:\n",
        "        print(\"%d  is a LEAP YEAR \" %year)\n",
        "        break\n",
        "    elif year % 400 == 0:\n",
        "        print(\"%d  is LEAP YEAR \" %year)\n",
        "        break\n",
        "    else:\n",
        "        print(\"%d  is not LEAP YEAR \" %year)\n",
        "        break\n",
        "\n",
        "\n",
        "    \n"
      ],
      "execution_count": 25,
      "outputs": [
        {
          "output_type": "stream",
          "text": [
            "Please enter a year: 2800\n",
            "2800  is LEAP YEAR \n"
          ],
          "name": "stdout"
        }
      ]
    }
  ]
}