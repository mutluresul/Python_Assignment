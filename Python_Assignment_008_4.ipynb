{
  "nbformat": 4,
  "nbformat_minor": 0,
  "metadata": {
    "colab": {
      "name": "Assignment-008/4.ipynb",
      "provenance": [],
      "authorship_tag": "ABX9TyNm/40qpFpWgKi6GoyQWwZ3",
      "include_colab_link": true
    },
    "kernelspec": {
      "name": "python3",
      "display_name": "Python 3"
    },
    "language_info": {
      "name": "python"
    }
  },
  "cells": [
    {
      "cell_type": "markdown",
      "metadata": {
        "id": "view-in-github",
        "colab_type": "text"
      },
      "source": [
        "<a href=\"https://colab.research.google.com/github/mutluresul/Python_Assignment/blob/main/Assignment_008_4.ipynb\" target=\"_parent\"><img src=\"https://colab.research.google.com/assets/colab-badge.svg\" alt=\"Open In Colab\"/></a>"
      ]
    },
    {
      "cell_type": "markdown",
      "metadata": {
        "id": "i6GB2oD7gMe1"
      },
      "source": [
        "# **Assignment-008/4 (Is it a Prime Number?)**"
      ]
    },
    {
      "cell_type": "code",
      "metadata": {
        "colab": {
          "base_uri": "https://localhost:8080/"
        },
        "id": "uzV620k5gI0a",
        "outputId": "0ba9e5a1-ce65-490b-e017-38560e0f0264"
      },
      "source": [
        "number = int(input(\"Please, Enter A Number : \"))\n",
        "\n",
        "while not number > 0:\n",
        "    print(\"The Number Entered is Negative or Zero\")\n",
        "    number = int(input(\"Please, Enter A Number again: \"))\n",
        "\n",
        "for i in range(2, number):\n",
        "    if number%i == 0:\n",
        "         print(number, \"is not a prime number\")\n",
        "         break\n",
        "else:\n",
        "    print(number, \"is a prime number\")\n",
        "        \n",
        "\n",
        "\n"
      ],
      "execution_count": 48,
      "outputs": [
        {
          "output_type": "stream",
          "text": [
            "Please, Enter A Number : -12\n",
            "The Number Entered is Negative or Zero\n",
            "Please, Enter A Number again: 0\n",
            "The Number Entered is Negative or Zero\n",
            "Please, Enter A Number again: 403\n",
            "403 is not a prime number\n"
          ],
          "name": "stdout"
        }
      ]
    }
  ]
}
