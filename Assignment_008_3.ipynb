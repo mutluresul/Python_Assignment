{
  "nbformat": 4,
  "nbformat_minor": 0,
  "metadata": {
    "colab": {
      "name": "Assignment 008/3.ipynb",
      "provenance": [],
      "authorship_tag": "ABX9TyOkwFZ/CMClSuK8BD/ijI2b",
      "include_colab_link": true
    },
    "kernelspec": {
      "name": "python3",
      "display_name": "Python 3"
    },
    "language_info": {
      "name": "python"
    }
  },
  "cells": [
    {
      "cell_type": "markdown",
      "metadata": {
        "id": "view-in-github",
        "colab_type": "text"
      },
      "source": [
        "<a href=\"https://colab.research.google.com/github/mutluresul/Python_Assignment/blob/main/Assignment_008_3.ipynb\" target=\"_parent\"><img src=\"https://colab.research.google.com/assets/colab-badge.svg\" alt=\"Open In Colab\"/></a>"
      ]
    },
    {
      "cell_type": "markdown",
      "metadata": {
        "id": "RZjqGVjmP9Rq"
      },
      "source": [
        "Assignment-008/3 (Is it an Armstrong Number?) "
      ]
    },
    {
      "cell_type": "code",
      "metadata": {
        "colab": {
          "base_uri": "https://localhost:8080/"
        },
        "id": "zqcqftPZP44W",
        "outputId": "7a47fe0e-d0a3-43ef-f7a4-19bcf82fdaf7"
      },
      "source": [
        "sayi = input(\"Enter a number, please :\")\n",
        "sum = 0\n",
        "exp = len(sayi)\n",
        "if sayi.strip().isdigit():\n",
        "    for i in str(sayi):\n",
        "        sum += int(i)**exp\n",
        "    if int(sayi) == sum:\n",
        "        print(\"%s is an Armstrong number\" % sayi )\n",
        "    else:\n",
        "        print(\"%s is not an Armstrong number\" % sayi )\n",
        "else:\n",
        "    print(\"It is an invalid entry. Don't use non-numeric, float, or negative values!\")"
      ],
      "execution_count": 45,
      "outputs": [
        {
          "output_type": "stream",
          "text": [
            "Enter a number, please :407\n",
            "407 is an Armstrong number\n"
          ],
          "name": "stdout"
        }
      ]
    }
  ]
}